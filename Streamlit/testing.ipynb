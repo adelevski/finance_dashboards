{
 "cells": [
  {
   "cell_type": "code",
   "execution_count": null,
   "metadata": {},
   "outputs": [],
   "source": [
    "import asyncio\n",
    "from binance import AsyncClient, BinanceSocketManager\n",
    "from binance.enums import *\n",
    "\n",
    "\n"
   ]
  },
  {
   "cell_type": "code",
   "execution_count": null,
   "metadata": {},
   "outputs": [],
   "source": [
    "async def main():\n",
    "    client = await AsyncClient.create()\n",
    "    bm = BinanceSocketManager(client, user_timeout=10)\n",
    "    # start any sockets here, i.e a trade socket\n",
    "    ks = bm.kline_socket('BNBBTC', interval=KLINE_INTERVAL_30MINUTE)\n",
    "    # then start receiving messages\n",
    "    async with ks as kscm:\n",
    "        while True:\n",
    "            res = await kscm.recv()\n",
    "            print(res)\n",
    "\n",
    "    await client.close_connection()\n",
    "\n",
    "if __name__ == \"__main__\":\n",
    "\n",
    "    loop = asyncio.get_event_loop()\n",
    "    loop.run_until_complete(main())"
   ]
  }
 ],
 "metadata": {
  "interpreter": {
   "hash": "eb168cc8145c808534b839bdde32e5e94cbe38162d867989c74da09bcfba34da"
  },
  "kernelspec": {
   "display_name": "Python 3.8.7 64-bit ('venv': venv)",
   "name": "python3"
  },
  "language_info": {
   "codemirror_mode": {
    "name": "ipython",
    "version": 3
   },
   "file_extension": ".py",
   "mimetype": "text/x-python",
   "name": "python",
   "nbconvert_exporter": "python",
   "pygments_lexer": "ipython3",
   "version": "3.8.7"
  },
  "orig_nbformat": 4
 },
 "nbformat": 4,
 "nbformat_minor": 2
}
